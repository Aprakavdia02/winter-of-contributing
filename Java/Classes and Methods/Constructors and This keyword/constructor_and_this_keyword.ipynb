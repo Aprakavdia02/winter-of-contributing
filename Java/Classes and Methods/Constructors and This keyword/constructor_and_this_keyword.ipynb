{
  "nbformat": 4,
  "nbformat_minor": 2,
  "metadata": {
    "colab": {
      "name": "constructor_and_this_keyword.ipynb",
      "provenance": [],
      "collapsed_sections": [
        "VDlWeF-QLrjY"
      ]
    },
    "kernelspec": {
      "name": "python3",
      "display_name": "Python 3"
    },
    "language_info": {
      "name": "python"
    }
  },
  "cells": [
    {
      "cell_type": "markdown",
      "source": [
        "# **CONSTRUCTOR AND THIS KEYWORD**\n",
        "\n",
        "\n",
        "\n",
        "\n",
        "\n"
      ],
      "metadata": {
        "id": "xqnykCpHKhGE"
      }
    },
    {
      "cell_type": "markdown",
      "source": [
        "---\r\n",
        "## **CONSTRUCTOR**\r\n",
        "---\r\n",
        "What is a constructor? Why is it used? How to write a constructor? These are the questions that will get answered in this article. Now, Constructor is a special method defined in java. What does that mean you may ask? Nothing really, just that it is a method with some exceptions. Declaring a constructor is the same as declaring a method in a class. But we do have to keep the following points in mind before creating a constructor:\r\n",
        "\r\n",
        "1. The constructor name has to be the same as the class name.\r\n",
        "2. A constructor does not have a return type.\r\n",
        "\r\n"
      ],
      "metadata": {
        "id": "8s9krI81LQBr"
      }
    },
    {
      "cell_type": "markdown",
      "source": [
        "Example:\r\n",
        "Class car {\r\n",
        "    \r\n",
        "    private int licenceNo;\r\n",
        "\t  private String carName;\r\n",
        "\r\n",
        "  car (){} \t\t\t\t\t           // Constructor declaration\r\n",
        "\r\n",
        "  public engine () {//some code}\t  //method declaration\t\t\r\n",
        "  \r\n",
        "}"
      ],
      "metadata": {}
    },
    {
      "cell_type": "markdown",
      "source": [
        "Now, to invoke a constructor we use the new keyword. For example,"
      ],
      "metadata": {
        "id": "quOfYaGqLlER"
      }
    },
    {
      "cell_type": "markdown",
      "source": [
        "public static void main (String args []) {\r\n",
        "\tcar c = new car (); \t\t// Object Creation\r\n",
        "}"
      ],
      "metadata": {}
    },
    {
      "cell_type": "markdown",
      "source": [
        "So, when we use the new keyword to create an instance of a class the constructor of the class gets invoked. The Constructor is used to initialize the fields of the objects. \r\n",
        "\r\n",
        "---\r\n",
        "\r\n",
        "##### **RETURN VALUE OF CONSTRUCTOR** \r\n",
        "\r\n",
        "Does the have a return value? Hmmm, trick question. Yes and no, why because even if we don’t explicitly define a return type and do not return any value from the constructor. Java runtime implicitly returns the class object when a constructor is called. "
      ],
      "metadata": {
        "id": "VDlWeF-QLrjY"
      }
    },
    {
      "cell_type": "markdown",
      "source": [
        "---\r\n",
        "## **TYPES OF CONSTRUCTORS**\r\n",
        "---\r\n",
        "\r\n",
        "There are 2 types of constructors: \r\n",
        "1.\t**DEFAULT CONSTRUCTOR:**\r\n",
        "\r\n",
        "If a class does not have a constructor declared explicitly, then JAVA Compiler provides a Default constructor, you know by default. The default constructor does not have any arguments. Using the default constructor, the object fields get initialized with default values such as null,0, etc.\r\n",
        "\r\n",
        "2.\t**PARAMETERIZED CONSTRUCTOR:**\r\n",
        "\r\n",
        "If we want to initialize the object field with user-defined values, then we use the Parameterized constructor. It contains arguments in the constructor declaration. Unlike the Default constructor java compiler does not provide a parameterized constructor. It has to be declared explicitly. if we declare a parameterized constructor then Java Compiler will not provide a default constructor. In this case, we have to declare a default constructor as well. "
      ],
      "metadata": {
        "id": "TU21swD0MWIv"
      }
    },
    {
      "cell_type": "markdown",
      "source": [
        "Example:\r\n",
        "Class car {\r\n",
        "    private int licenceNo;\r\n",
        "\t  private String carName;\r\n",
        "\t\r\n",
        "  car() {} \t\t\t                          //Default Constructor\r\n",
        "\t\r\n",
        "  car(int licenceNo,String carName) {}\t\t\t//Parameterized Constructor\r\n",
        "\r\n",
        "}"
      ],
      "metadata": {}
    },
    {
      "cell_type": "markdown",
      "source": [
        "**COPY CONSTRUCTOR:**\r\n",
        "\r\n",
        "A copy constructor is a constructor that creates a new object based on another object of the same class. Now, Java also has a copy constructor. But Java does not explicitly provide a copy constructor. In C++,  a copy constructor is by default provided when a call of such type is made. But in Java, if we make any such calls, no default copy constructor will be invoked. "
      ],
      "metadata": {
        "id": "G7SMKVbyMqav"
      }
    },
    {
      "cell_type": "markdown",
      "source": [
        "Example: \r\n",
        " class car {\r\n",
        "      private int licenceNo;\r\n",
        "\t    private String carName;\r\n",
        "\r\n",
        "     car(car c1) {\r\n",
        "        this.licenceNo = c1.licenceNo;\r\n",
        "        this.carName = c1.carName;\r\n",
        "    }"
      ],
      "metadata": {}
    },
    {
      "cell_type": "markdown",
      "source": [
        "---\r\n",
        "## **THIS KEYWORD:**\r\n",
        "---\r\n",
        "‘This’ is a keyword is used as a reference to the current object. Using ‘this’ we can easily differentiate between class attributes and the current object fields having the same name. "
      ],
      "metadata": {
        "id": "_U6ig75LMzQU"
      }
    },
    {
      "cell_type": "markdown",
      "source": [
        "Example: \r\n",
        "Class car {\r\n",
        "  private int licenceNo = 00000;\r\n",
        "\tprivate String carName;\r\n",
        "\r\n",
        "\tcar (int licenceNo) {           //constructor with a parameter\r\n",
        "\t\tthis.licenceNo = licenceNo;\r\n",
        "  }\r\n",
        "\r\n",
        "public static void main (String args []) {\r\n",
        "    Car car = new car (54321);\r\n",
        "    System.out.println(“Value of licenceNo =” + car.licenceNo);\r\n",
        "  }\r\n",
        "}"
      ],
      "metadata": {}
    },
    {
      "cell_type": "markdown",
      "source": [
        "The above code will print - > \r\n",
        "\r\n",
        "\r\n",
        "Value of licenceNo = 10\r\n",
        "\r\n",
        "If we remove the ‘this’ keyword from the constructor then it would output ‘00000’ instead of ‘54321’.\r\n"
      ],
      "metadata": {
        "id": "DIi6lZz1N-TA"
      }
    },
    {
      "cell_type": "markdown",
      "source": [
        "---\r\n",
        "## **CONSTRUCTOR CHAINING:**\r\n",
        "---\r\n",
        "Calling a constructor from another constructor is called constructor chaining. But remember, the constructor call should be the first statement of the code block. We can achieve this using the ‘THIS’ keyword. "
      ],
      "metadata": {
        "id": "iTttpXxUOjTx"
      }
    },
    {
      "cell_type": "markdown",
      "source": [
        "Example -> \r\n",
        "\r\n",
        "Class car {\r\n",
        "\tprivate int licenceNo;\r\n",
        "\tprivate String carName;\r\n",
        "\tcar (){\t\t\t\t\t----( 1 )\r\n",
        "\t\tthis.licenceNo = 00000;\r\n",
        "\t\tthis.carName = ‘anyCarName’;\r\n",
        "  }\r\n",
        "\tcar (int licenceNo){\t\t\t----( 2 )\r\n",
        "\t\tthis();\r\n",
        "\t\tthis.licenceNo = licenceNo;\r\n",
        "  }\r\n",
        "  car (String carName , int licenceNo){    ----( 3 )\r\n",
        "\t  this(licenceNo);\r\n",
        "\t  this.carName = carName;\r\n",
        "  }\r\n",
        "\r\n",
        "public static void main(String args[]){\r\n",
        "    car car = new car(“Honda”,”20012”);\t\t---- ( 4 )\r\n",
        "  }\r\n",
        "\t\r\n",
        "}\r\n"
      ],
      "metadata": {}
    },
    {
      "cell_type": "markdown",
      "source": [
        "In this example, after creating an object at line number 4, the constructor at line 3 gets called, Then the constructor at line 3 makes a call to the constructor on line 2, and then the constructor on line 2, in turn, invokes the constructor on line 1."
      ],
      "metadata": {
        "id": "0sX0gJJ_RbnE"
      }
    },
    {
      "cell_type": "markdown",
      "source": [
        "---\r\n",
        "## **CONSTRUCTOR OVERLOADING:**\r\n",
        "---\r\n",
        "\r\n",
        "Constructor overloading is just a fancy way of saying that we can have many constructors with the same name in the same class.  But the number of arguments should not be the same for all the constructors. \r\n",
        "\r\n"
      ],
      "metadata": {
        "id": "E1YszbE_Rod3"
      }
    },
    {
      "cell_type": "markdown",
      "source": [
        "Example \r\n",
        "\tClass car {\r\n",
        "    \r\n",
        "    private int licenceNo;\r\n",
        "\t  private String carName;\r\n",
        "\t\t\r\n",
        "    car () {}                               //Default constructor with no arguments\r\n",
        "\t\t\r\n",
        "    car (int licenceNo)                    // constructor with 1 argument\r\n",
        "\t\t\r\n",
        "    car (String carName,int licenceNo){}   //constructor with 2 arguments\r\n",
        "}\r\n"
      ],
      "metadata": {}
    },
    {
      "cell_type": "markdown",
      "source": [
        "### With this we come to the end of the constructor and this keyword.\n",
        "\n",
        "*Happy Learning*"
      ],
      "metadata": {
        "id": "jLnTVqgcSBe_"
      }
    },
    {
      "cell_type": "markdown",
      "source": [
        "Ref -\n",
        "\n",
        "https://www.journaldev.com/\n",
        "\n",
        "https://www.geeksforgeeks.org/java/\n",
        "\n",
        "https://docs.oracle.com/javase/tutorial/"
      ],
      "metadata": {
        "id": "ynJOT3qJSnuS"
      }
    }
  ]
}